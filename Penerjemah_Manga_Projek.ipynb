{
  "nbformat": 4,
  "nbformat_minor": 0,
  "metadata": {
    "colab": {
      "provenance": [],
      "gpuType": "T4",
      "include_colab_link": true
    },
    "kernelspec": {
      "name": "python3",
      "display_name": "Python 3"
    },
    "language_info": {
      "name": "python"
    },
    "accelerator": "GPU"
  },
  "cells": [
    {
      "cell_type": "markdown",
      "metadata": {
        "id": "view-in-github",
        "colab_type": "text"
      },
      "source": [
        "<a href=\"https://colab.research.google.com/github/Mabzak-Knight/streamlit_tes/blob/main/Penerjemah_Manga_Projek.ipynb\" target=\"_parent\"><img src=\"https://colab.research.google.com/assets/colab-badge.svg\" alt=\"Open In Colab\"/></a>"
      ]
    },
    {
      "cell_type": "markdown",
      "source": [
        "# Project Translator Manga v1"
      ],
      "metadata": {
        "id": "70ElU0HuhGN7"
      }
    },
    {
      "cell_type": "code",
      "source": [
        "!pip install manga-ocr"
      ],
      "metadata": {
        "id": "06tAftW6iyQq"
      },
      "execution_count": null,
      "outputs": []
    },
    {
      "cell_type": "code",
      "execution_count": 1,
      "metadata": {
        "id": "rNnQu7RKhANl"
      },
      "outputs": [],
      "source": [
        "import PIL.Image"
      ]
    },
    {
      "cell_type": "code",
      "source": [
        "from manga_ocr import MangaOcr"
      ],
      "metadata": {
        "id": "aFbuvKgXhaub"
      },
      "execution_count": 5,
      "outputs": []
    },
    {
      "cell_type": "code",
      "source": [
        "mocr = MangaOcr()\n"
      ],
      "metadata": {
        "id": "N1bqAuyAi4qU"
      },
      "execution_count": null,
      "outputs": []
    },
    {
      "cell_type": "code",
      "source": [
        "img = PIL.Image.open('/content/ballon.png')\n",
        "text = mocr(img)"
      ],
      "metadata": {
        "id": "o1QYqYMxjI-9"
      },
      "execution_count": 34,
      "outputs": []
    },
    {
      "cell_type": "code",
      "source": [
        "text"
      ],
      "metadata": {
        "colab": {
          "base_uri": "https://localhost:8080/",
          "height": 35
        },
        "id": "XxBqL6pxjMRC",
        "outputId": "cd8a89e6-8fc2-43ae-fb1a-3c1ab0c4d64d"
      },
      "execution_count": 35,
      "outputs": [
        {
          "output_type": "execute_result",
          "data": {
            "text/plain": [
              "'原稿そろそろ上がりますよね？'"
            ],
            "application/vnd.google.colaboratory.intrinsic+json": {
              "type": "string"
            }
          },
          "metadata": {},
          "execution_count": 35
        }
      ]
    },
    {
      "cell_type": "markdown",
      "source": [
        "---------------------------"
      ],
      "metadata": {
        "id": "OiFHfRGJlUnz"
      }
    },
    {
      "cell_type": "code",
      "source": [
        "!pip install googletrans==4.0.0-rc1"
      ],
      "metadata": {
        "id": "3I5J0tG4o_6n"
      },
      "execution_count": null,
      "outputs": []
    },
    {
      "cell_type": "code",
      "source": [
        "from googletrans import Translator\n",
        "\n",
        "def translate_japanese_to_indonesian(text):\n",
        "    translator = Translator()\n",
        "    translated_text = translator.translate(text, src='ja', dest='id')\n",
        "    return translated_text.text\n",
        "\n",
        "# Contoh penggunaan\n",
        "japanese_text = text\n",
        "translated_text = translate_japanese_to_indonesian(japanese_text)\n",
        "\n",
        "print(f\"Jepang: {japanese_text}\")\n",
        "print(f\"Indonesia: {translated_text}\")"
      ],
      "metadata": {
        "colab": {
          "base_uri": "https://localhost:8080/"
        },
        "id": "ZaohAabuqXxA",
        "outputId": "634930d6-03aa-4c41-a301-28534564e26d"
      },
      "execution_count": 39,
      "outputs": [
        {
          "output_type": "stream",
          "name": "stdout",
          "text": [
            "Jepang: 原稿そろそろ上がりますよね？\n",
            "Indonesia: Naskah ada di sekitar Anda, kan?\n"
          ]
        }
      ]
    }
  ]
}